{
 "cells": [
  {
   "cell_type": "code",
   "execution_count": 1,
   "metadata": {
    "collapsed": true
   },
   "outputs": [],
   "source": [
    "import numpy as np\n",
    "import os\n",
    "import fnmatch\n",
    "from xml.etree.ElementTree import ElementTree\n",
    "import xml.etree.ElementTree as ET\n",
    "from struct import unpack\n",
    "import binascii\n",
    "import shutil\n",
    "from PIL import Image\n",
    "import cv2"
   ]
  },
  {
   "cell_type": "code",
   "execution_count": 2,
   "metadata": {
    "collapsed": true
   },
   "outputs": [],
   "source": [
    "def hex_to_double(s):\n",
    "    return unpack(\">d\", binascii.unhexlify(s))[0]\n",
    "\n",
    "def getline(list1,list2, N):\n",
    "    res = []   \n",
    "    \n",
    "    l1 = [(x, 0) for x in list1]\n",
    "    l2 = [(x, 1) for x in list2]\n",
    "    for l in l2:\n",
    "        l1.append(l)\n",
    "    line = l1\n",
    "    line.sort()\n",
    "    \n",
    "    cnt=0\n",
    "    val1 = 0\n",
    "    for l in line:\n",
    "        if cnt==0:\n",
    "            res.append((val1, l[0]))\n",
    "        if l[1]==0:\n",
    "            cnt = cnt+1\n",
    "        else:\n",
    "            cnt = cnt-1\n",
    "        if cnt==0:\n",
    "            val1 = l[0]\n",
    "    res.append((val1, N))\n",
    "    \n",
    "    return res"
   ]
  },
  {
   "cell_type": "code",
   "execution_count": 10,
   "metadata": {
    "collapsed": true
   },
   "outputs": [],
   "source": [
    "dir_path = r'D:\\tablebank\\20190424190300041510\\marmot_dataset_v1.0\\data\\Chinese\\Positive'\n",
    "xml_dir = os.path.join(dir_path, 'Labeled')\n",
    "img_dir = os.path.join(dir_path, 'Raw')\n"
   ]
  },
  {
   "cell_type": "code",
   "execution_count": 11,
   "metadata": {
    "scrolled": true
   },
   "outputs": [],
   "source": [
    "images = {}\n",
    "file_list =  os.listdir(img_dir)\n",
    "for file_name in fnmatch.filter(file_list, \"*.bmp\"):\n",
    "    img_path = os.path.join(img_dir, file_name)   \n",
    "    img = cv2.imread(img_path)\n",
    "    height,width = img.shape[:2]\n",
    "    name = os.path.splitext(os.path.split(img_path)[1])[0]\n",
    "    images[name] = {\"width\": width, \"height\": height}\n",
    "\n",
    "    xml_path = os.path.join(xml_dir, name+'.xml')\n",
    "    marmot_tree = ET.parse(xml_path)\n",
    "    marmot_root = marmot_tree.getroot()\n",
    "\n",
    "    tables = marmot_root.findall(\"*/Composites/*[@Label='TableBody']\")\n",
    "    cells = marmot_root.findall(\"*/Composites/*[@Label='Textline']\")\n",
    "    \n",
    "        \n",
    "    cnt = 0\n",
    "    for table in tables:\n",
    "        hexs = table.get(\"BBox\").split(\" \")\n",
    "        bbox_array = [int(hex_to_double(x)*1.33) for x in hexs]\n",
    "        x0 = min(bbox_array[0], bbox_array[2])\n",
    "        x1 = max(bbox_array[0], bbox_array[2])\n",
    "        y0 = min(height - bbox_array[3],height - bbox_array[1])\n",
    "        y1 = max(height - bbox_array[3],height - bbox_array[1])\n",
    "        bbox_array[0] = x0\n",
    "        bbox_array[2] = x1\n",
    "        bbox_array[1] = y0\n",
    "        bbox_array[3] = y1\n",
    "        img_table = img[bbox_array[1]:bbox_array[3], bbox_array[0]:bbox_array[2]]\n",
    "\n",
    "        save_path = os.path.join(dir_path, 'images/'+name+'_'+str(cnt)+'.jpg')\n",
    "        cv2.imwrite(save_path, img_table)\n",
    "\n",
    "        table_cell = []\n",
    "\n",
    "        cell_x0 = []\n",
    "        cell_x1 = []\n",
    "        cell_y0 = []\n",
    "        cell_y1 = []\n",
    "\n",
    "\n",
    "        LID = table.get(\"LID\")\n",
    "        for cell in cells:\n",
    "            lid = cell.get(\"PLID\")\n",
    "            if lid==LID:\n",
    "                chexs = cell.get(\"BBox\").split(\" \")\n",
    "                cbox_array = [int(hex_to_double(x)*1.33) for x in chexs]\n",
    "                x0 = min(cbox_array[0], cbox_array[2])\n",
    "                x1 = max(cbox_array[0], cbox_array[2])\n",
    "                y0 = min(height - cbox_array[3],height - cbox_array[1])\n",
    "                y1 = max(height - cbox_array[3],height - cbox_array[1])\n",
    "                y0 = y0 - bbox_array[1]\n",
    "                y1 = y1 - bbox_array[1]\n",
    "                x0 = x0 - bbox_array[0]\n",
    "                x1 = x1 - bbox_array[0]\n",
    "                cbox_array = [x0,y0,x1,y1]\n",
    "                table_cell.append(np.array(cbox_array))\n",
    "                cell_x0.append(x0)\n",
    "                cell_x1.append(x1)\n",
    "                cell_y0.append(y0)\n",
    "                cell_y1.append(y1)\n",
    "\n",
    "        mask_h = np.zeros((img_table.shape[0], img_table.shape[1]))\n",
    "        mask_v = np.zeros((img_table.shape[0], img_table.shape[1]))\n",
    "\n",
    "        vlines = getline(cell_x0, cell_x1, img_table.shape[1])\n",
    "        hlines = getline(cell_y0, cell_y1, img_table.shape[0])\n",
    "\n",
    "\n",
    "        for l in hlines:\n",
    "            cv2.rectangle(mask_h, (0,l[0]), (img_table.shape[1], l[1]), (1,0,0), -1) \n",
    "        save_path = os.path.join(dir_path, 'images/'+name+'_'+str(cnt)+'_maskh.png')\n",
    "        cv2.imwrite(save_path, mask_h)\n",
    "        for l in vlines:\n",
    "            cv2.rectangle(mask_v, (l[0], 0), (l[1], img_table.shape[0]), (1,0,0), -1)\n",
    "        save_path = os.path.join(dir_path, 'images/'+name+'_'+str(cnt)+'_maskv.png')\n",
    "        cv2.imwrite(save_path, mask_v)            \n",
    "        \n",
    "        cnt = cnt+1"
   ]
  },
  {
   "cell_type": "code",
   "execution_count": 140,
   "metadata": {},
   "outputs": [
    {
     "data": {
      "text/plain": [
       "255"
      ]
     },
     "execution_count": 140,
     "metadata": {},
     "output_type": "execute_result"
    }
   ],
   "source": [
    "cv2.imshow('tmp',mask_h)\n",
    "cv2.waitKey(10000)"
   ]
  },
  {
   "cell_type": "code",
   "execution_count": null,
   "metadata": {
    "collapsed": true
   },
   "outputs": [],
   "source": []
  }
 ],
 "metadata": {
  "kernelspec": {
   "display_name": "Python 2",
   "language": "python",
   "name": "python2"
  },
  "language_info": {
   "codemirror_mode": {
    "name": "ipython",
    "version": 2
   },
   "file_extension": ".py",
   "mimetype": "text/x-python",
   "name": "python",
   "nbconvert_exporter": "python",
   "pygments_lexer": "ipython2",
   "version": "2.7.13"
  },
  "latex_envs": {
   "LaTeX_envs_menu_present": true,
   "autoclose": false,
   "autocomplete": true,
   "bibliofile": "biblio.bib",
   "cite_by": "apalike",
   "current_citInitial": 1,
   "eqLabelWithNumbers": true,
   "eqNumInitial": 1,
   "hotkeys": {
    "equation": "Ctrl-E",
    "itemize": "Ctrl-I"
   },
   "labels_anchors": false,
   "latex_user_defs": false,
   "report_style_numbering": false,
   "user_envs_cfg": false
  }
 },
 "nbformat": 4,
 "nbformat_minor": 2
}
