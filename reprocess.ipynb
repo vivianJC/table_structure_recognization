{
 "cells": [
  {
   "cell_type": "code",
   "execution_count": 1,
   "metadata": {
    "collapsed": true
   },
   "outputs": [],
   "source": [
    "import numpy as np\n",
    "import pandas as pd\n",
    "import cv2\n",
    "import os"
   ]
  },
  {
   "cell_type": "code",
   "execution_count": 2,
   "metadata": {
    "collapsed": true
   },
   "outputs": [],
   "source": [
    "img = cv2.imread('cTDaR_t00040_0_H.jpg', cv2.IMREAD_GRAYSCALE)\n",
    "rows, cols = img.shape"
   ]
  },
  {
   "cell_type": "code",
   "execution_count": 53,
   "metadata": {
    "collapsed": true
   },
   "outputs": [],
   "source": [
    "class VerticalRunLength:\n",
    "    def __init__(self, x = 0, y_start = 0, y_end = 0):\n",
    "        self.x = x\n",
    "        self.y_start = y_start\n",
    "        self.y_end = y_end\n",
    "class ChainNode:\n",
    "    def __init__(self, center_y, rl_info, p=0):\n",
    "        self.center_y = center_y\n",
    "        self.runlength_info = rl_info\n",
    "        self.next = p\n",
    "class Chain:\n",
    "    def __init__(self, x_start, x_end, y_avg, head):\n",
    "        self.x_start = x_start\n",
    "        self.x_end = x_end\n",
    "        self.y_avg = y_avg\n",
    "        self.head = head"
   ]
  },
  {
   "cell_type": "code",
   "execution_count": 54,
   "metadata": {
    "collapsed": true
   },
   "outputs": [],
   "source": [
    "def chain_filter(chain, rows, cols): \n",
    "    if  chain.x_end-chain.x_start<=cols/40:\n",
    "        return False\n",
    "    else:\n",
    "        return True\n",
    "    \n",
    "    \n",
    "def merge_chain(rl_Head):\n",
    "    ptr = rl_Head\n",
    "    x_start = ptr.runlength_info.x\n",
    "    x_end = x_start\n",
    "    y_sum = ptr.runlength_info.y_end-ptr.runlength_info.y_start\n",
    "    cnt = 1\n",
    "    \n",
    "    ptr = rl_Head.next\n",
    "    while ptr!=0:\n",
    "        x_end = ptr.runlength_info.x\n",
    "        y_sum+=ptr.runlength_info.y_end-ptr.runlength_info.y_start\n",
    "        cnt+=1\n",
    "        ptr = ptr.next\n",
    "    chain = Chain(x_start, x_end, y_sum/cnt, rl_Head)\n",
    "    return chain\n",
    "    \n",
    "    \n",
    "def getchain(cur_col, cur_row, img, visited):\n",
    "\n",
    "    rl_Head = None\n",
    "    last_rl = None\n",
    "    last_node = None\n",
    "\n",
    "    x = cur_col\n",
    "    ys = cur_row\n",
    "    ye = ys\n",
    "    while ye+1<rows and img[ye+1][x]>0 and visited[ye+1][x]==0:\n",
    "        ye = ye+1\n",
    "    last_rl = VerticalRunLength(x, ys, ye)\n",
    "    center_y = (ys+ye)/2\n",
    "    last_node = ChainNode(center_y, last_rl)\n",
    "    rl_Head = last_node\n",
    "\n",
    "    for pix in range(ys, ye+1):\n",
    "        visited[pix][x] = 1\n",
    "\n",
    "\n",
    "    while x+1<cols:\n",
    "        x = last_rl.x + 1\n",
    "        ys = last_rl.y_start\n",
    "        ye = last_rl.y_end + 1\n",
    "        end_flag = False\n",
    "\n",
    "        while ys<ye and img[ys][x]==0 and visited[ys][x]==0:\n",
    "            ys = ys+1\n",
    "        while ys<ye and img[ye-1][x]==0 and visited[ye-1][x]==0:\n",
    "            ye = ye-1\n",
    "        if ys==ye:\n",
    "            end_flag = True\n",
    "            break\n",
    "\n",
    "        y_start = ys\n",
    "        y_end = ye\n",
    "\n",
    "        while ys<ye and img[ys][x]>0 and visited[ys][x]==0:\n",
    "            ys = ys+1\n",
    "        while ys<ye and img[ye-1][x]>0 and visited[ye-1][x]==0:\n",
    "            ye = ye-1\n",
    "        if ys!=ye:\n",
    "            end_flag = True\n",
    "            break\n",
    "\n",
    "        ys = y_start\n",
    "        ye = y_end - 1\n",
    "        while ys-1>=0 and img[ys-1][x]>0 and visited[ys-1][x]==0:\n",
    "            ys = ys-1\n",
    "        while ye+1<rows and img[ye+1][x]>0 and visited[ye+1][x]==0:\n",
    "            ye = ye+1\n",
    "\n",
    "        curr_rl = VerticalRunLength(x, ys, ye)\n",
    "        center_y = (ys+ye-1)/2\n",
    "        # 更新last_rl last_node\n",
    "        last_rl = curr_rl\n",
    "        curr_node = ChainNode(center_y, curr_rl)\n",
    "        last_node.next = curr_node\n",
    "        last_node = curr_node\n",
    "        for pix in range(ys, ye+1):\n",
    "            visited[pix][x] = 1\n",
    "    return rl_Head, visited"
   ]
  },
  {
   "cell_type": "markdown",
   "metadata": {},
   "source": [
    "## get chain"
   ]
  },
  {
   "cell_type": "code",
   "execution_count": 55,
   "metadata": {
    "collapsed": true
   },
   "outputs": [],
   "source": [
    "chains = []\n",
    "visited = np.zeros((rows, cols))\n",
    "last_rl = None    # 上一游标\n",
    "last_node = None  # 上一链表节点\n",
    "\n",
    "for row in range(rows):\n",
    "    for col in range(cols):\n",
    "        if img[row][col]>0 and visited[row][col]==0 :\n",
    "            chain_head, visited = getchain(col, row, img, visited)\n",
    "            if chain_head!=None:\n",
    "                chain = merge_chain(chain_head)\n",
    "                if chain_filter(chain, rows, cols):\n",
    "                    chains.append(chain)"
   ]
  },
  {
   "cell_type": "code",
   "execution_count": 56,
   "metadata": {},
   "outputs": [
    {
     "data": {
      "text/plain": [
       "225"
      ]
     },
     "execution_count": 56,
     "metadata": {},
     "output_type": "execute_result"
    }
   ],
   "source": [
    "len(chains)"
   ]
  },
  {
   "cell_type": "markdown",
   "metadata": {},
   "source": [
    "## match"
   ]
  },
  {
   "cell_type": "code",
   "execution_count": null,
   "metadata": {
    "collapsed": true
   },
   "outputs": [],
   "source": []
  }
 ],
 "metadata": {
  "kernelspec": {
   "display_name": "Python 3",
   "language": "python",
   "name": "python3"
  },
  "language_info": {
   "codemirror_mode": {
    "name": "ipython",
    "version": 3
   },
   "file_extension": ".py",
   "mimetype": "text/x-python",
   "name": "python",
   "nbconvert_exporter": "python",
   "pygments_lexer": "ipython3",
   "version": "3.6.2"
  },
  "latex_envs": {
   "LaTeX_envs_menu_present": true,
   "autoclose": false,
   "autocomplete": true,
   "bibliofile": "biblio.bib",
   "cite_by": "apalike",
   "current_citInitial": 1,
   "eqLabelWithNumbers": true,
   "eqNumInitial": 1,
   "hotkeys": {
    "equation": "Ctrl-E",
    "itemize": "Ctrl-I"
   },
   "labels_anchors": false,
   "latex_user_defs": false,
   "report_style_numbering": false,
   "user_envs_cfg": false
  }
 },
 "nbformat": 4,
 "nbformat_minor": 2
}
